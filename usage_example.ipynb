{
 "cells": [
  {
   "cell_type": "code",
   "execution_count": 1,
   "id": "830e1fe7",
   "metadata": {},
   "outputs": [],
   "source": [
    "import os\n",
    "import sys"
   ]
  },
  {
   "cell_type": "code",
   "execution_count": 4,
   "id": "af304fd5",
   "metadata": {},
   "outputs": [],
   "source": [
    "sys.path.append(os.getcwd() + \"/hal_pm\")"
   ]
  },
  {
   "cell_type": "code",
   "execution_count": 41,
   "id": "08649a1c",
   "metadata": {},
   "outputs": [
    {
     "name": "stdout",
     "output_type": "stream",
     "text": [
      "10122 observations with missing values were removed from the data frame\n",
      "42 outlier observations were deleted\n"
     ]
    }
   ],
   "source": [
    "! python hal_pm/main.py 48.5 49 9 9.3 \"2018-05-05T00:00:00\" 1 \"Z-score\""
   ]
  },
  {
   "cell_type": "code",
   "execution_count": 34,
   "id": "cdac2b39",
   "metadata": {},
   "outputs": [],
   "source": []
  },
  {
   "cell_type": "code",
   "execution_count": null,
   "id": "d01f5d44",
   "metadata": {},
   "outputs": [],
   "source": []
  }
 ],
 "metadata": {
  "kernelspec": {
   "display_name": "Python 3",
   "language": "python",
   "name": "python3"
  },
  "language_info": {
   "codemirror_mode": {
    "name": "ipython",
    "version": 3
   },
   "file_extension": ".py",
   "mimetype": "text/x-python",
   "name": "python",
   "nbconvert_exporter": "python",
   "pygments_lexer": "ipython3",
   "version": "3.8.8"
  }
 },
 "nbformat": 4,
 "nbformat_minor": 5
}
