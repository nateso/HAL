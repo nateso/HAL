{
 "cells": [
  {
   "cell_type": "code",
   "execution_count": 1,
   "id": "e2d3c7fc-0262-440b-9dc7-9222e7a8133f",
   "metadata": {},
   "outputs": [],
   "source": [
    "import os\n",
    "import sys"
   ]
  },
  {
   "cell_type": "code",
   "execution_count": 4,
   "id": "93b5c408-1e0c-4520-b009-d3f2c1dd7609",
   "metadata": {},
   "outputs": [],
   "source": [
    "sys.path.append(os.getcwd() + \"/hal_pm\")"
   ]
  },
  {
   "cell_type": "code",
   "execution_count": 7,
   "id": "d53be56f-71ae-46fc-8303-744fc54cfd2a",
   "metadata": {},
   "outputs": [
    {
     "name": "stdout",
     "output_type": "stream",
     "text": [
      "10122 observations were removed from the data frame\n",
      "1 observations were deleted\n",
      "   measurement_PM10  measurement_PM2.5  ... sensor_id              measurement_id\n",
      "0              3.53               3.53  ...      7651   7651_2018-05-05T00:00:01Z\n",
      "3              3.90               3.50  ...       783    783_2018-05-05T00:00:02Z\n",
      "4             11.37               4.60  ...      2023   2023_2018-05-05T00:00:02Z\n",
      "5              2.83               1.70  ...       773    773_2018-05-05T00:00:03Z\n",
      "6              6.43               3.87  ...     10963  10963_2018-05-05T00:00:04Z\n",
      "\n",
      "[5 rows x 7 columns]\n"
     ]
    }
   ],
   "source": [
    "! python hal_pm/main.py 48.5 49 9 9.3 \"2018-05-05T00:00:00\" 1 \"Z-score\""
   ]
  },
  {
   "cell_type": "code",
   "execution_count": null,
   "id": "47220698-b045-4489-944d-7bf8981eefbc",
   "metadata": {},
   "outputs": [],
   "source": []
  }
 ],
 "metadata": {
  "kernelspec": {
   "display_name": "Python 3",
   "language": "python",
   "name": "python3"
  },
  "language_info": {
   "codemirror_mode": {
    "name": "ipython",
    "version": 3
   },
   "file_extension": ".py",
   "mimetype": "text/x-python",
   "name": "python",
   "nbconvert_exporter": "python",
   "pygments_lexer": "ipython3",
   "version": "3.8.8"
  }
 },
 "nbformat": 4,
 "nbformat_minor": 5
}
