{
 "cells": [
  {
   "cell_type": "code",
   "execution_count": 1,
   "id": "e2d3c7fc-0262-440b-9dc7-9222e7a8133f",
   "metadata": {},
   "outputs": [],
   "source": [
    "import os\n",
    "import sys"
   ]
  },
  {
   "cell_type": "code",
   "execution_count": 4,
   "id": "93b5c408-1e0c-4520-b009-d3f2c1dd7609",
   "metadata": {},
   "outputs": [],
   "source": [
    "sys.path.append(os.getcwd() + \"/hal_pm\")"
   ]
  },
  {
   "cell_type": "code",
   "execution_count": 41,
   "id": "d53be56f-71ae-46fc-8303-744fc54cfd2a",
   "metadata": {},
   "outputs": [
    {
     "name": "stdout",
     "output_type": "stream",
     "text": [
      "10122 observations with missing values were removed from the data frame\n",
      "42 outlier observations were deleted\n"
     ]
    }
   ],
   "source": [
    "! python hal_pm/main.py 48.5 49 9 9.3 \"2018-05-05T00:00:00\" 1 \"Z-score\""
   ]
  },
  {
   "cell_type": "code",
   "execution_count": 34,
   "id": "2e36fbe5-f46e-43a2-ba14-3bb45c1ae661",
   "metadata": {},
   "outputs": [],
   "source": []
  },
  {
   "cell_type": "code",
   "execution_count": null,
   "id": "984d1448-1869-4079-91ab-e9908aac86e7",
   "metadata": {},
   "outputs": [],
   "source": []
  }
 ],
 "metadata": {
  "kernelspec": {
   "display_name": "Python 3",
   "language": "python",
   "name": "python3"
  },
  "language_info": {
   "codemirror_mode": {
    "name": "ipython",
    "version": 3
   },
   "file_extension": ".py",
   "mimetype": "text/x-python",
   "name": "python",
   "nbconvert_exporter": "python",
   "pygments_lexer": "ipython3",
   "version": "3.8.8"
  }
 },
 "nbformat": 4,
 "nbformat_minor": 5
}
