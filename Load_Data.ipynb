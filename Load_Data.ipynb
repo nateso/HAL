{
 "cells": [
  {
   "cell_type": "markdown",
   "id": "99326ae1-a001-4f57-89e3-702e4a21ea89",
   "metadata": {},
   "source": [
    "# Function for Loading the Data from a REST-API for a pd data frame"
   ]
  },
  {
   "cell_type": "code",
   "execution_count": 1,
   "id": "7803b966-76d9-47cc-aad5-c2a7dfa2e1a4",
   "metadata": {},
   "outputs": [],
   "source": [
    "# Imports:\n",
    "import requests\n",
    "from datetime import datetime, timedelta\n",
    "import pandas as pd"
   ]
  },
  {
   "cell_type": "code",
   "execution_count": 7,
   "id": "28e0518f-7fa6-4782-b1f0-f09935bbcc4f",
   "metadata": {},
   "outputs": [],
   "source": [
    "def load_data(lat_start, lat_end, long_start, long_end, start_datetime, delta_hours):\n",
    "    '''Function for loading the data out of the REST-API'''\n",
    "    \n",
    "    '''INPUT:'''\n",
    "    \n",
    "    '''lat_start:                          latitude range starting point, type: byte'''\n",
    "    '''lat_end:                            latitude range ending point, type: byte'''\n",
    "    '''long_start:                         longitude range starting point, type: byte'''\n",
    "    '''long_end:                           longitude range ending point, type: byte'''\n",
    "    '''start_year, start_month, start_day: year / month / day of the measurement to start, type: byte'''\n",
    "    '''delta_hours:                        time delta to calculate time space of measurement, type: byte'''\n",
    "    \n",
    "    '''OUPUT:'''\n",
    "    \n",
    "    '''Merged data frame on P1 and P2 is outputted'''\n",
    "    \n",
    "    '''Defensive programming'''\n",
    "    if not (isinstance(lat_start, float) or isinstance(lat_start, int)):                    # checks type of lat_start parameter with isinstance (int or float)\n",
    "        raise TypeError(\"Coordinate value only supports int and float\")                     # raise TypeError is not numeric\n",
    "    if not (isinstance(lat_end, float) or isinstance(lat_end, int)):\n",
    "        raise TypeError(\"Coordinate value only supports int and float\")\n",
    "    if not (isinstance(long_start, float) or isinstance(long_start, int)):\n",
    "        raise TypeError(\"Coordinate value only supports int and float\")\n",
    "    if not (isinstance(long_end, float) or isinstance(long_end, int)):\n",
    "        raise TypeError(\"Coordinate value only supports int and float\")\n",
    "    if not (isinstance(delta_hours, float) or isinstance(delta_hours, int)):\n",
    "        raise TypeError(\"Time delta value only supports int and float\")\n",
    "    if delta_hours <= 0:                                                                    # if delta_hours is smaller equal zero:\n",
    "        raise ValueError(\"Time delta only defined for positive numbers\")                    # raise value error\n",
    "    if lat_end <= lat_start:\n",
    "        raise ValueError(\"Latitude range ending starting point must be larger than starting point\")\n",
    "    if long_end <= long_start:\n",
    "        raise ValueError(\"Longitude range ending starting point must be larger than starting point\")\n",
    "    \n",
    "    '''Import Data from REST_API'''\n",
    "    # Basic parameters\n",
    "    base_url='http://sensordata.gwdg.de/api/' \n",
    "    endpoint_url_P1='measurements/P1'          # P1 endpoint\n",
    "    endpoint_url_P2='measurements/P2'          # P2 endpoint\n",
    "\n",
    "    # Select geo-coordinates\n",
    "    latrange=[lat_start, lat_end]\n",
    "    longrange=[long_start, long_end]\n",
    "\n",
    "    # Select time range\n",
    "    end_date = (start_datetime + timedelta(hours = delta_hours))\n",
    "\n",
    "    # Build the query\n",
    "    mydata = '{\"timeStart\": \"'+start_datetime.strftime(\"%Y-%m-%dT%H:%M:%SZ\")+'\",' + \\\n",
    "             '\"timeEnd\": \"'+end_date.strftime(\"%Y-%m-%dT%H:%M:%SZ\")+'\", \"area\":  \\\n",
    "             {\"coordinates\":['+str(latrange)+','+str(longrange)+']}}'\n",
    "\n",
    "    # Run the query\n",
    "    response_P1 = requests.post(base_url + endpoint_url_P1, data=mydata)\n",
    "    response_P2 = requests.post(base_url + endpoint_url_P2, data=mydata)\n",
    "    \n",
    "    '''Initialize data frames'''\n",
    "    j_P1 = response_P1.json()                                                                            # convert REST-API data to json at first\n",
    "    del j_P1[1]                                                                                          # delete 'sensor' string, that causes errors\n",
    "    df_P1 = pd.DataFrame(j_P1[1], columns =j_P1[0])                                                      # put all in pandas data frame\n",
    "    df_P1 = df_P1.rename(columns={\"P1\": \"measurement_PM10\"})                                             # Change column name for better overview\n",
    "    l_P1 = list(range(len(df_P1[\"sensor_id\"])))\n",
    "    for i in range(len(l_P1)):                                                                           # Adding unique measurement_id to merge P1 and P2\n",
    "        l_P1[i] = str(df_P1[\"sensor_id\"][i]) + \"_\" + str(df_P1[\"time\"][i])\n",
    "    df_P1[\"measurement_id\"] = l_P1\n",
    "    df_P1 = df_P1.reindex(columns = [\"measurement_PM10\", \"time\", \"lat\", \"lon\", \"sensor_id\", \"measurement_id\"])    # rearranging column names for better overview \n",
    "\n",
    "    \n",
    "    j_P2 = response_P2.json()\n",
    "    del j_P2[1]\n",
    "    df_P2 = pd.DataFrame(j_P2[1], columns =j_P2[0])\n",
    "    df_P2 = df_P2.rename(columns={\"P2\": \"measurement_PM2.5\"})\n",
    "    l_P2 = list(range(len(df_P2[\"sensor_id\"])))\n",
    "    for j in range(len(l_P2)):                                                                           # Adding unique measurement_id to merge P1 and P2\n",
    "        l_P2[j] = str(df_P2[\"sensor_id\"][j]) + \"_\" + str(df_P2[\"time\"][j])\n",
    "    df_P2[\"measurement_id\"] = l_P2\n",
    "    df_P2 = df_P2.reindex(columns = [\"measurement_PM2.5\", \"measurement_id\"])\n",
    "    \n",
    "    '''Initialize output'''\n",
    "    df_total = pd.merge(df_P1, df_P2, on = \"measurement_id\")                                         # merge data frame on unique measurement_id\n",
    "    df_total = df_total.reindex(columns = [\"measurement_PM10\", \"measurement_PM2.5\", \"time\", \"lat\", \"lon\", \"sensor_id\", \"measurement_id\"])\n",
    "    return df_total                                                                                  # return combined data frame\n"
   ]
  },
  {
   "cell_type": "code",
   "execution_count": 8,
   "id": "0a520d71-1452-4f3c-8be3-69689bf8def9",
   "metadata": {},
   "outputs": [
    {
     "ename": "TypeError",
     "evalue": "can only concatenate str (not \"datetime.timedelta\") to str",
     "output_type": "error",
     "traceback": [
      "\u001b[0;31m---------------------------------------------------------------------------\u001b[0m",
      "\u001b[0;31mTypeError\u001b[0m                                 Traceback (most recent call last)",
      "\u001b[0;32m<ipython-input-8-98dc630f8e78>\u001b[0m in \u001b[0;36m<module>\u001b[0;34m\u001b[0m\n\u001b[1;32m      1\u001b[0m \u001b[0;31m# Example\u001b[0m\u001b[0;34m\u001b[0m\u001b[0;34m\u001b[0m\u001b[0;34m\u001b[0m\u001b[0m\n\u001b[0;32m----> 2\u001b[0;31m \u001b[0mdf\u001b[0m \u001b[0;34m=\u001b[0m \u001b[0mload_data\u001b[0m\u001b[0;34m(\u001b[0m\u001b[0mlat_start\u001b[0m \u001b[0;34m=\u001b[0m \u001b[0;36m48\u001b[0m\u001b[0;34m,\u001b[0m \u001b[0mlat_end\u001b[0m \u001b[0;34m=\u001b[0m \u001b[0;36m49\u001b[0m\u001b[0;34m,\u001b[0m \u001b[0mlong_start\u001b[0m \u001b[0;34m=\u001b[0m \u001b[0;36m9\u001b[0m\u001b[0;34m,\u001b[0m \u001b[0mlong_end\u001b[0m \u001b[0;34m=\u001b[0m \u001b[0;36m10\u001b[0m\u001b[0;34m,\u001b[0m \u001b[0mstart_datetime\u001b[0m \u001b[0;34m=\u001b[0m \u001b[0;34m\"2018-05-05T00:00:00Z\"\u001b[0m\u001b[0;34m,\u001b[0m \u001b[0mdelta_hours\u001b[0m \u001b[0;34m=\u001b[0m \u001b[0;36m1\u001b[0m\u001b[0;34m)\u001b[0m \u001b[0;31m# Stuttgart now\u001b[0m\u001b[0;34m\u001b[0m\u001b[0;34m\u001b[0m\u001b[0m\n\u001b[0m\u001b[1;32m      3\u001b[0m \u001b[0mdf\u001b[0m\u001b[0;34m\u001b[0m\u001b[0;34m\u001b[0m\u001b[0m\n",
      "\u001b[0;32m<ipython-input-7-268a17a57db9>\u001b[0m in \u001b[0;36mload_data\u001b[0;34m(lat_start, lat_end, long_start, long_end, start_datetime, delta_hours)\u001b[0m\n\u001b[1;32m     26\u001b[0m \u001b[0;34m\u001b[0m\u001b[0m\n\u001b[1;32m     27\u001b[0m     \u001b[0;31m# Select time range\u001b[0m\u001b[0;34m\u001b[0m\u001b[0;34m\u001b[0m\u001b[0;34m\u001b[0m\u001b[0m\n\u001b[0;32m---> 28\u001b[0;31m     \u001b[0mend_date\u001b[0m \u001b[0;34m=\u001b[0m \u001b[0;34m(\u001b[0m\u001b[0mstart_datetime\u001b[0m \u001b[0;34m+\u001b[0m \u001b[0mtimedelta\u001b[0m\u001b[0;34m(\u001b[0m\u001b[0mhours\u001b[0m \u001b[0;34m=\u001b[0m \u001b[0mdelta_hours\u001b[0m\u001b[0;34m)\u001b[0m\u001b[0;34m)\u001b[0m\u001b[0;34m\u001b[0m\u001b[0;34m\u001b[0m\u001b[0m\n\u001b[0m\u001b[1;32m     29\u001b[0m \u001b[0;34m\u001b[0m\u001b[0m\n\u001b[1;32m     30\u001b[0m     \u001b[0;31m# Build the query\u001b[0m\u001b[0;34m\u001b[0m\u001b[0;34m\u001b[0m\u001b[0;34m\u001b[0m\u001b[0m\n",
      "\u001b[0;31mTypeError\u001b[0m: can only concatenate str (not \"datetime.timedelta\") to str"
     ]
    }
   ],
   "source": [
    "# Example\n",
    "df = load_data(lat_start = 48, lat_end = 49, long_start = 9, long_end = 10, start_datetime = \"2018-05-05T00:00:00Z\", delta_hours = 1) # Stuttgart now\n",
    "df"
   ]
  },
  {
   "cell_type": "code",
   "execution_count": 20,
   "id": "fb3a729d-9bae-434e-963d-ea859b797dec",
   "metadata": {},
   "outputs": [
    {
     "data": {
      "text/plain": [
       "True"
      ]
     },
     "execution_count": 20,
     "metadata": {},
     "output_type": "execute_result"
    }
   ],
   "source": [
    "df.isnull().values.any() == True"
   ]
  },
  {
   "cell_type": "code",
   "execution_count": 7,
   "id": "9479611d-b7ef-4ab5-8d08-af2dced18c1f",
   "metadata": {},
   "outputs": [],
   "source": []
  },
  {
   "cell_type": "code",
   "execution_count": null,
   "id": "be2768c4-3e98-40a4-bba3-8918e75aed22",
   "metadata": {},
   "outputs": [],
   "source": []
  }
 ],
 "metadata": {
  "kernelspec": {
   "display_name": "Python 3",
   "language": "python",
   "name": "python3"
  },
  "language_info": {
   "codemirror_mode": {
    "name": "ipython",
    "version": 3
   },
   "file_extension": ".py",
   "mimetype": "text/x-python",
   "name": "python",
   "nbconvert_exporter": "python",
   "pygments_lexer": "ipython3",
   "version": "3.8.8"
  }
 },
 "nbformat": 4,
 "nbformat_minor": 5
}
