{
 "cells": [
  {
   "cell_type": "code",
   "execution_count": 107,
   "id": "202b6364-52b2-441a-b568-50f62e30d613",
   "metadata": {},
   "outputs": [],
   "source": [
    "import requests\n",
    "from datetime import datetime, timedelta\n",
    "import pandas as pd\n",
    "import numpy as np\n",
    "import warnings\n",
    "import Load_Data\n",
    "import Corr_Fct"
   ]
  },
  {
   "cell_type": "code",
   "execution_count": 108,
   "id": "f4feccad-6725-433b-8b16-d6c65fd74279",
   "metadata": {},
   "outputs": [],
   "source": [
    "def remove_missing(df):\n",
    "    \"\"\"Detects and removes missing values, the function prints out how many values were deleted.\"\"\"\n",
    "    '''The function deletes the entire row if either the PM10 or PM2.5 value is missing.'''\n",
    "    \n",
    "    '''INPUT:'''\n",
    "    \n",
    "    '''df:              A pandas data frame containing PM2.5 and PM10 measurements for a sensor at a given time'''\n",
    "    \n",
    "    '''OUTPUT:'''\n",
    "    \n",
    "    '''A pandas data frame without missing values'''\n",
    "    \n",
    "    miss = np.any([pd.isna(df['measurement_PM10']),pd.isna(df['measurement_PM2.5'])],axis = 0)\n",
    "    n_miss = miss.sum()\n",
    "    print(n_miss,\"observations with missing values were removed from the data frame\")\n",
    "    return df[miss == False]    \n",
    "\n",
    "\n",
    "# check for outliers and filter those using different methods\n",
    "def remove_outliers(df,method = \"Z-score\", z_val = 2.58, crit_val = [0,100], quantile = [0,0.99]):\n",
    "    '''function to remove outliers following a selected method'''\n",
    "    '''deletes entire row in case either Pm10 or PM2.5 values is an outlier'''\n",
    "    \n",
    "    '''INPUTS:'''\n",
    "    \n",
    "    '''df:                         Pandas Data Frame'''\n",
    "    '''method:                     A string indicating which method to use for filtering the data possible options: Z-score, critical_value, quantile'''\n",
    "    '''z_val:                      Z-value, default is 2.58 (only standardised values between -1.96 and 1.96 are kept). type = byte.'''\n",
    "    '''crit_val:                   List of lower and upper bound to filter values. Type: list, default: [0,100]'''\n",
    "    '''quantile:                   List of lower and upper quantile to filter values. Type: list, default: [0,0.95]'''\n",
    "    \n",
    "    '''OUTPUTS:'''\n",
    "    \n",
    "    '''Pandas data frame without outliers. Prints out how many observations were removed'''\n",
    "    measurement = df[['measurement_PM10','measurement_PM2.5']]\n",
    "    \n",
    "    if method == \"Z-score\":\n",
    "        mean = measurement.mean()\n",
    "        sd = measurement.std()\n",
    "        z_score = (measurement - mean)/sd\n",
    "        exclude_PM10 = np.any([z_score['measurement_PM10'] < -z_val, z_score['measurement_PM10'] > z_val],axis = 0)\n",
    "        exclude_PM25 = np.any([z_score['measurement_PM2.5'] < -z_val, z_score['measurement_PM2.5'] > z_val],axis = 0)\n",
    "    \n",
    "    if method == \"critical_value\":\n",
    "        if len(crit_val) < 2:\n",
    "            print(\"ERROR: please provide a lower and an upper bound\")\n",
    "            return\n",
    "        if len(crit_val) > 2:\n",
    "            warnings.warn(\"Only first two elements of crit_val will be used!\")\n",
    "        exclude_PM10 = np.any([measurement['measurement_PM10'] < crit_val[0], measurement['measurement_PM10'] > crit_val[1]],axis = 0)\n",
    "        exclude_PM25 = np.any([measurement['measurement_PM2.5'] < crit_val[0], measurement['measurement_PM2.5'] > crit_val[1]],axis = 0)\n",
    "        \n",
    "    if method == \"quantile\":\n",
    "        if len(quantile) < 2:\n",
    "            print(\"ERROR: please provide a lower and an upper quantile\")\n",
    "            return \n",
    "        if len(quantile) > 2:\n",
    "            warnings.warn(\"Only first two elements of quantile will be used!\")\n",
    "        upper = measurement.quantile(quantile[1])\n",
    "        lower = measurement.quantile(quantile[0])\n",
    "        exclude_PM10 = np.any([measurement['measurement_PM10'] < lower[0], measurement['measurement_PM10'] > upper[0]],axis = 0)\n",
    "        exclude_PM25 = np.any([measurement['measurement_PM2.5'] < lower[1], measurement['measurement_PM2.5'] > upper[1]],axis = 0)\n",
    "            \n",
    "    exclude = np.any([exclude_PM10 == True, exclude_PM25 == True],axis = 0)\n",
    "    n_excluded = exclude.sum()\n",
    "    print(n_excluded,\"outlier observations were deleted\")\n",
    "    return df[exclude == False]"
   ]
  },
  {
   "cell_type": "code",
   "execution_count": 109,
   "id": "f63cac90-f81c-4039-912d-4fa90fd2bfc0",
   "metadata": {},
   "outputs": [],
   "source": [
    "start_time = datetime.fromisoformat(\"2018-05-05T00:00:00\")\n",
    "mydf = Load_Data.load_data(48.5, 49, 9, 9.3, start_time, 2)"
   ]
  },
  {
   "cell_type": "code",
   "execution_count": 110,
   "id": "3191e55e-8e15-45a5-bd10-6a490b03adc6",
   "metadata": {},
   "outputs": [
    {
     "name": "stdout",
     "output_type": "stream",
     "text": [
      "20339 observations with missing values were removed from the data frame\n",
      "3 outlier observations were deleted\n"
     ]
    }
   ],
   "source": [
    "mydf = remove_missing(mydf)\n",
    "mydf = remove_outliers(mydf)"
   ]
  },
  {
   "cell_type": "code",
   "execution_count": 111,
   "id": "508ad17e-be97-40a8-8a0c-80fb974395d6",
   "metadata": {},
   "outputs": [
    {
     "name": "stdout",
     "output_type": "stream",
     "text": [
      "0.08256485206634746\n"
     ]
    }
   ],
   "source": [
    "mydf_corr = Corr_Fct.corr_coeff(mydf)\n",
    "print(mydf_corr)"
   ]
  },
  {
   "cell_type": "code",
   "execution_count": 112,
   "id": "5655122a-13cc-46d6-8b80-3592bedd8bb8",
   "metadata": {},
   "outputs": [
    {
     "data": {
      "image/png": "[encoded data removed]",
      "text/plain": [
       "<Figure size 432x288 with 2 Axes>"
      ]
     },
     "metadata": {
      "needs_background": "light"
     },
     "output_type": "display_data"
    }
   ],
   "source": [
    "mydf_corrmat = Corr_Fct.corr_matrix(mydf, plot = True)"
   ]
  },
  {
   "cell_type": "code",
   "execution_count": 113,
   "id": "dc2703bf-ea20-4ef7-8517-2253d225c5da",
   "metadata": {},
   "outputs": [
    {
     "name": "stdout",
     "output_type": "stream",
     "text": [
      "[[1.         0.08256485]\n",
      " [0.08256485 1.        ]]\n"
     ]
    }
   ],
   "source": [
    "print(mydf_corrmat)"
   ]
  },
  {
   "cell_type": "code",
   "execution_count": null,
   "id": "0e3543e3-97e6-460c-81f3-417648dc47b8",
   "metadata": {},
   "outputs": [],
   "source": []
  }
 ],
 "metadata": {
  "kernelspec": {
   "display_name": "Python 3",
   "language": "python",
   "name": "python3"
  },
  "language_info": {
   "codemirror_mode": {
    "name": "ipython",
    "version": 3
   },
   "file_extension": ".py",
   "mimetype": "text/x-python",
   "name": "python",
   "nbconvert_exporter": "python",
   "pygments_lexer": "ipython3",
   "version": "3.8.8"
  }
 },
 "nbformat": 4,
 "nbformat_minor": 5
}
