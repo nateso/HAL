{
 "cells": [
  {
   "cell_type": "markdown",
   "id": "b531b14d",
   "metadata": {},
   "source": [
    "# Task 4 - Descriptive statistics"
   ]
  },
  {
   "cell_type": "code",
   "execution_count": 149,
   "id": "d5bf1180",
   "metadata": {},
   "outputs": [],
   "source": [
    "import requests\n",
    "from datetime import datetime, timedelta\n",
    "import pandas as pd\n",
    "import numpy as np\n",
    "import warnings\n",
    "import plotly.express as px\n",
    "from matplotlib import pyplot as plt\n",
    "\n",
    "from ipynb.fs.full.Load_Data import load_data\n",
    "from ipynb.fs.full.Clean_Data import remove_outliers\n",
    "from ipynb.fs.full.Clean_Data import remove_missing"
   ]
  },
  {
   "cell_type": "code",
   "execution_count": 5,
   "id": "caef7e2e",
   "metadata": {},
   "outputs": [
    {
     "name": "stdout",
     "output_type": "stream",
     "text": [
      "422 observations were removed from the data frame\n",
      "13 observations were deleted\n"
     ]
    }
   ],
   "source": [
    "df = load_data(lat_start = 51, lat_end = 52, long_start = 9, long_end = 10, start_year = 2018, start_month = 4, start_day = 30, delta_hours = 1)\n",
    "df = remove_missing(df)\n",
    "df = remove_outliers(df,method = \"quantile\", quantile = [0,0.99])"
   ]
  },
  {
   "cell_type": "code",
   "execution_count": 133,
   "id": "5d7df00f",
   "metadata": {},
   "outputs": [],
   "source": [
    "def get_descriptives(df,get_map = False):\n",
    "    '''returns maximum PM10 and PM2.5 concentration'''\n",
    "    \n",
    "    '''INPUTS:'''\n",
    "    \n",
    "    '''df:            Pandas Data Frame with PM10 and PM2.5 measurements as columns'''\n",
    "    '''get_map:       Boolean for getting a map as output or not, default = False, type = boolean'''\n",
    "    \n",
    "    '''OUTPUTS:'''\n",
    "    \n",
    "    '''maxima:        A Pandas Data Frame containing the maximum observations for PM10 and PM2.5'''\n",
    "    '''max_map:       An interactive map with the location of the maxima'''\n",
    "    \n",
    "    measurement = df[[\"measurement_PM10\",\"measurement_PM2.5\"]]\n",
    "    \n",
    "    where_max = measurement.idxmax()\n",
    "    \n",
    "    df1 = df.drop([\"measurement_id\",\"sensor_id\"], axis = 1)\n",
    "    maxima = df1.loc[where_max]\n",
    "    label = [\"max PM10\",\"max PM2.5\"]\n",
    "    maxima[\"label\"] = label\n",
    "    \n",
    "    # also output a map displaying the maxima if wanted\n",
    "    if get_map == True:\n",
    "        median = maxima[['lat','lon']].median()        \n",
    "        max_map = px.scatter_mapbox(maxima,\n",
    "                             lat=\"lat\",\n",
    "                             lon=\"lon\",\n",
    "                             color=\"label\")\n",
    "        max_map.update_layout(mapbox_style=\"open-street-map\")\n",
    "        max_map.update_traces(marker=dict(size=12),\n",
    "                          selector=dict(mode='markers'))\n",
    "        return maxima, max_map\n",
    "    else:\n",
    "        return maxima"
   ]
  },
  {
   "cell_type": "code",
   "execution_count": 154,
   "id": "ab24a29c",
   "metadata": {},
   "outputs": [],
   "source": [
    "def plot_mean_pm(df):\n",
    "    '''plots the mean PM10 and PM2.5 concentration over the given location against time'''\n",
    "    \n",
    "    '''INPUTS:'''\n",
    "    \n",
    "    '''df:             Pandas Data Frame with PM10 and PM2.5 measurements as column'''\n",
    "    \n",
    "    '''OUTPUTS:'''\n",
    "    \n",
    "    df['group_time'] = [pd.to_datetime(df['time']).dt.strftime('%Y-%m-%d %H %M')]\n",
    "    minute_means = df.groupby('group_time').mean()\n",
    "    \n",
    "    #plot = plt.plot(x = minute_means['group_time'], y = minute_means['measurement_PM10'])\n",
    "    \n",
    "    return minute_means\n",
    "    "
   ]
  },
  {
   "cell_type": "code",
   "execution_count": 159,
   "id": "78c13436",
   "metadata": {},
   "outputs": [
    {
     "data": {
      "text/plain": [
       "pandas.core.series.Series"
      ]
     },
     "execution_count": 159,
     "metadata": {},
     "output_type": "execute_result"
    }
   ],
   "source": [
    "type(pd.to_datetime(df['time']).dt.strftime('%Y-%m-%d %H %M'))"
   ]
  }
 ],
 "metadata": {
  "kernelspec": {
   "display_name": "Python 3",
   "language": "python",
   "name": "python3"
  },
  "language_info": {
   "codemirror_mode": {
    "name": "ipython",
    "version": 3
   },
   "file_extension": ".py",
   "mimetype": "text/x-python",
   "name": "python",
   "nbconvert_exporter": "python",
   "pygments_lexer": "ipython3",
   "version": "3.8.8"
  }
 },
 "nbformat": 4,
 "nbformat_minor": 5
}
