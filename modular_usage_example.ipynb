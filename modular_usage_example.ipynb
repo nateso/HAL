{
 "cells": [
  {
   "cell_type": "markdown",
   "metadata": {},
   "source": [
    "# Usage Example of the HAL Project Group\n",
    "## Prerequisite: \n",
    "- Importing required libraries, \n",
    "- Setting system path\n",
    "- Importing HAL project"
   ]
  },
  {
   "cell_type": "code",
   "execution_count": 77,
   "metadata": {},
   "outputs": [],
   "source": [
    "import os\n",
    "import sys"
   ]
  },
  {
   "cell_type": "code",
   "execution_count": 78,
   "metadata": {},
   "outputs": [],
   "source": [
    "sys.path.append(os.getcwd() + \"/hal_pm\")"
   ]
  },
  {
   "cell_type": "code",
   "execution_count": 79,
   "metadata": {},
   "outputs": [],
   "source": [
    "from hal_pm import *\n",
    "import datetime"
   ]
  },
  {
   "cell_type": "markdown",
   "metadata": {},
   "source": [
    "## 1.) & 2.): Etablishing connection to Rest-API and requesting the data\n",
    "The load_data function takes the coordinates (latitude and logitude, start and end point each) as well as a start date in `datetime` format and number of delta hours as input values. \n",
    "In first place, PM2.5 and PM10 `pandas` data frames are created seperetally. Meanwhile it creates the unique identifier column *measurement_id*, which is a combination of *sensor_id* and *time* columns in each data frame. By the unique identifier, PM2.5 and PM10 data frames are merged into a large one (since a single sensor always measures PM10 and PM2.5 values). After reordering the columns, the large data frame containing all *measurements*, *dates*, *coordinates* and *sensor_id*s is outputted to the user.\n",
    "\n",
    "#### Place and time of measurements:\n",
    "As a group, we decided to take a look at Stuttgart's fine particulate pollution in our example. This is reasoned on in the fact, that Stuttgart were famous for its ban on diesel-powered vehicles in an early stage compared to the rest of germany. Due to the fact, that one hour already contains 20134 observations, we couldn't take a longer time period into account (otherwise, loading data would take too much time). Therefore *start_date* is chosen without purpose as well. However, by only defining the datetime as *YYYY, MM, DD*, the measurements start on midnight 2018-06-01 and end on 1:00 am 2018-06-01."
   ]
  },
  {
   "cell_type": "code",
   "execution_count": 80,
   "metadata": {},
   "outputs": [],
   "source": [
    "# Load Data\n",
    "start_date = datetime.datetime(2018, 6, 1)\n",
    "pmdata = Load_Data.load_data(lat_start = 48.5, lat_end = 49, long_start = 9, long_end = 9.3, start_datetime = start_date, delta_hours = 1)"
   ]
  },
  {
   "cell_type": "code",
   "execution_count": 81,
   "metadata": {},
   "outputs": [
    {
     "data": {
      "text/html": [
       "<div>\n",
       "<style scoped>\n",
       "    .dataframe tbody tr th:only-of-type {\n",
       "        vertical-align: middle;\n",
       "    }\n",
       "\n",
       "    .dataframe tbody tr th {\n",
       "        vertical-align: top;\n",
       "    }\n",
       "\n",
       "    .dataframe thead th {\n",
       "        text-align: right;\n",
       "    }\n",
       "</style>\n",
       "<table border=\"1\" class=\"dataframe\">\n",
       "  <thead>\n",
       "    <tr style=\"text-align: right;\">\n",
       "      <th></th>\n",
       "      <th>measurement_PM10</th>\n",
       "      <th>measurement_PM2.5</th>\n",
       "      <th>time</th>\n",
       "      <th>lat</th>\n",
       "      <th>lon</th>\n",
       "      <th>sensor_id</th>\n",
       "      <th>measurement_id</th>\n",
       "    </tr>\n",
       "  </thead>\n",
       "  <tbody>\n",
       "    <tr>\n",
       "      <th>0</th>\n",
       "      <td>NaN</td>\n",
       "      <td>NaN</td>\n",
       "      <td>2018-06-01T00:00:01Z</td>\n",
       "      <td>48.798</td>\n",
       "      <td>9.070</td>\n",
       "      <td>11264</td>\n",
       "      <td>11264_2018-06-01T00:00:01Z</td>\n",
       "    </tr>\n",
       "    <tr>\n",
       "      <th>1</th>\n",
       "      <td>2.67</td>\n",
       "      <td>1.27</td>\n",
       "      <td>2018-06-01T00:00:01Z</td>\n",
       "      <td>48.949</td>\n",
       "      <td>9.098</td>\n",
       "      <td>122</td>\n",
       "      <td>122_2018-06-01T00:00:01Z</td>\n",
       "    </tr>\n",
       "    <tr>\n",
       "      <th>2</th>\n",
       "      <td>8.60</td>\n",
       "      <td>1.77</td>\n",
       "      <td>2018-06-01T00:00:01Z</td>\n",
       "      <td>48.765</td>\n",
       "      <td>9.147</td>\n",
       "      <td>4383</td>\n",
       "      <td>4383_2018-06-01T00:00:01Z</td>\n",
       "    </tr>\n",
       "    <tr>\n",
       "      <th>3</th>\n",
       "      <td>12.35</td>\n",
       "      <td>2.42</td>\n",
       "      <td>2018-06-01T00:00:01Z</td>\n",
       "      <td>48.779</td>\n",
       "      <td>9.034</td>\n",
       "      <td>181</td>\n",
       "      <td>181_2018-06-01T00:00:01Z</td>\n",
       "    </tr>\n",
       "    <tr>\n",
       "      <th>4</th>\n",
       "      <td>NaN</td>\n",
       "      <td>NaN</td>\n",
       "      <td>2018-06-01T00:00:01Z</td>\n",
       "      <td>48.779</td>\n",
       "      <td>9.034</td>\n",
       "      <td>182</td>\n",
       "      <td>182_2018-06-01T00:00:01Z</td>\n",
       "    </tr>\n",
       "    <tr>\n",
       "      <th>...</th>\n",
       "      <td>...</td>\n",
       "      <td>...</td>\n",
       "      <td>...</td>\n",
       "      <td>...</td>\n",
       "      <td>...</td>\n",
       "      <td>...</td>\n",
       "      <td>...</td>\n",
       "    </tr>\n",
       "    <tr>\n",
       "      <th>20129</th>\n",
       "      <td>3.90</td>\n",
       "      <td>1.33</td>\n",
       "      <td>2018-06-01T00:59:59Z</td>\n",
       "      <td>48.759</td>\n",
       "      <td>9.162</td>\n",
       "      <td>309</td>\n",
       "      <td>309_2018-06-01T00:59:59Z</td>\n",
       "    </tr>\n",
       "    <tr>\n",
       "      <th>20130</th>\n",
       "      <td>NaN</td>\n",
       "      <td>NaN</td>\n",
       "      <td>2018-06-01T00:59:59Z</td>\n",
       "      <td>48.536</td>\n",
       "      <td>9.274</td>\n",
       "      <td>202</td>\n",
       "      <td>202_2018-06-01T00:59:59Z</td>\n",
       "    </tr>\n",
       "    <tr>\n",
       "      <th>20131</th>\n",
       "      <td>NaN</td>\n",
       "      <td>NaN</td>\n",
       "      <td>2018-06-01T00:59:59Z</td>\n",
       "      <td>48.692</td>\n",
       "      <td>9.148</td>\n",
       "      <td>2493</td>\n",
       "      <td>2493_2018-06-01T00:59:59Z</td>\n",
       "    </tr>\n",
       "    <tr>\n",
       "      <th>20132</th>\n",
       "      <td>NaN</td>\n",
       "      <td>NaN</td>\n",
       "      <td>2018-06-01T00:59:59Z</td>\n",
       "      <td>48.799</td>\n",
       "      <td>9.224</td>\n",
       "      <td>5356</td>\n",
       "      <td>5356_2018-06-01T00:59:59Z</td>\n",
       "    </tr>\n",
       "    <tr>\n",
       "      <th>20133</th>\n",
       "      <td>NaN</td>\n",
       "      <td>NaN</td>\n",
       "      <td>2018-06-01T00:59:59Z</td>\n",
       "      <td>48.759</td>\n",
       "      <td>9.162</td>\n",
       "      <td>310</td>\n",
       "      <td>310_2018-06-01T00:59:59Z</td>\n",
       "    </tr>\n",
       "  </tbody>\n",
       "</table>\n",
       "<p>20134 rows × 7 columns</p>\n",
       "</div>"
      ],
      "text/plain": [
       "       measurement_PM10  measurement_PM2.5                  time     lat  \\\n",
       "0                   NaN                NaN  2018-06-01T00:00:01Z  48.798   \n",
       "1                  2.67               1.27  2018-06-01T00:00:01Z  48.949   \n",
       "2                  8.60               1.77  2018-06-01T00:00:01Z  48.765   \n",
       "3                 12.35               2.42  2018-06-01T00:00:01Z  48.779   \n",
       "4                   NaN                NaN  2018-06-01T00:00:01Z  48.779   \n",
       "...                 ...                ...                   ...     ...   \n",
       "20129              3.90               1.33  2018-06-01T00:59:59Z  48.759   \n",
       "20130               NaN                NaN  2018-06-01T00:59:59Z  48.536   \n",
       "20131               NaN                NaN  2018-06-01T00:59:59Z  48.692   \n",
       "20132               NaN                NaN  2018-06-01T00:59:59Z  48.799   \n",
       "20133               NaN                NaN  2018-06-01T00:59:59Z  48.759   \n",
       "\n",
       "         lon sensor_id              measurement_id  \n",
       "0      9.070     11264  11264_2018-06-01T00:00:01Z  \n",
       "1      9.098       122    122_2018-06-01T00:00:01Z  \n",
       "2      9.147      4383   4383_2018-06-01T00:00:01Z  \n",
       "3      9.034       181    181_2018-06-01T00:00:01Z  \n",
       "4      9.034       182    182_2018-06-01T00:00:01Z  \n",
       "...      ...       ...                         ...  \n",
       "20129  9.162       309    309_2018-06-01T00:59:59Z  \n",
       "20130  9.274       202    202_2018-06-01T00:59:59Z  \n",
       "20131  9.148      2493   2493_2018-06-01T00:59:59Z  \n",
       "20132  9.224      5356   5356_2018-06-01T00:59:59Z  \n",
       "20133  9.162       310    310_2018-06-01T00:59:59Z  \n",
       "\n",
       "[20134 rows x 7 columns]"
      ]
     },
     "execution_count": 81,
     "metadata": {},
     "output_type": "execute_result"
    }
   ],
   "source": [
    "pmdata"
   ]
  },
  {
   "cell_type": "markdown",
   "metadata": {},
   "source": [
    "## 3.) Data Filtering"
   ]
  },
  {
   "cell_type": "code",
   "execution_count": 82,
   "metadata": {},
   "outputs": [
    {
     "name": "stdout",
     "output_type": "stream",
     "text": [
      "9590 observations with missing values were removed from the data frame\n",
      "       measurement_PM10  measurement_PM2.5                  time     lat  \\\n",
      "1                  2.67               1.27  2018-06-01T00:00:01Z  48.949   \n",
      "2                  8.60               1.77  2018-06-01T00:00:01Z  48.765   \n",
      "3                 12.35               2.42  2018-06-01T00:00:01Z  48.779   \n",
      "5                  1.10               1.10  2018-06-01T00:00:01Z  48.791   \n",
      "8                  5.12               2.78  2018-06-01T00:00:02Z  48.757   \n",
      "...                 ...                ...                   ...     ...   \n",
      "20119              5.10               1.15  2018-06-01T00:59:58Z  48.942   \n",
      "20121              1.80               1.40  2018-06-01T00:59:58Z  48.870   \n",
      "20124              3.23               1.80  2018-06-01T00:59:59Z  48.784   \n",
      "20126             23.43              18.10  2018-06-01T00:59:59Z  48.516   \n",
      "20129              3.90               1.33  2018-06-01T00:59:59Z  48.759   \n",
      "\n",
      "         lon sensor_id              measurement_id  \n",
      "1      9.098       122    122_2018-06-01T00:00:01Z  \n",
      "2      9.147      4383   4383_2018-06-01T00:00:01Z  \n",
      "3      9.034       181    181_2018-06-01T00:00:01Z  \n",
      "5      9.178      7651   7651_2018-06-01T00:00:01Z  \n",
      "8      9.256       950    950_2018-06-01T00:00:02Z  \n",
      "...      ...       ...                         ...  \n",
      "20119  9.256       434    434_2018-06-01T00:59:58Z  \n",
      "20121  9.185      7673   7673_2018-06-01T00:59:58Z  \n",
      "20124  9.197     11933  11933_2018-06-01T00:59:59Z  \n",
      "20126  9.063       499    499_2018-06-01T00:59:59Z  \n",
      "20129  9.162       309    309_2018-06-01T00:59:59Z  \n",
      "\n",
      "[10544 rows x 7 columns]\n"
     ]
    }
   ],
   "source": [
    "# Clear Data\n",
    "pmdata = Filter_Data.remove_missing(pmdata)\n",
    "print(pmdata)"
   ]
  },
  {
   "cell_type": "markdown",
   "metadata": {},
   "source": [
    "## 5.) Time histories of fine particulate pollution for the sensors with the highest and lowest mean pollution levels\n",
    "\n",
    "The `plot_average_pol` function evaluates the *sensor_id*s with the lowest and highest average measurement per PM10/PM2.5 seperatelly. In a second steps, it takes the measurements of these sensors and plots them against a timeline. The plot is organized in subplots as following:\n",
    "- **Rows**: PM10 or PM2.5 measurement\n",
    "- **Columns**: sensors with average maximum (Red) or average minumum (Blue)"
   ]
  },
  {
   "cell_type": "code",
   "execution_count": 86,
   "metadata": {},
   "outputs": [
    {
     "ename": "NameError",
     "evalue": "name 'fig1' is not defined",
     "output_type": "error",
     "traceback": [
      "\u001b[0;31m---------------------------------------------------------------------------\u001b[0m",
      "\u001b[0;31mNameError\u001b[0m                                 Traceback (most recent call last)",
      "\u001b[0;32m<ipython-input-86-1098ca614119>\u001b[0m in \u001b[0;36m<module>\u001b[0;34m\u001b[0m\n\u001b[1;32m      1\u001b[0m \u001b[0;31m# Plot average polution\u001b[0m\u001b[0;34m\u001b[0m\u001b[0;34m\u001b[0m\u001b[0;34m\u001b[0m\u001b[0m\n\u001b[0;32m----> 2\u001b[0;31m \u001b[0mTime_Plots\u001b[0m\u001b[0;34m.\u001b[0m\u001b[0mplot_average_pol\u001b[0m\u001b[0;34m(\u001b[0m\u001b[0mpmdata\u001b[0m\u001b[0;34m)\u001b[0m\u001b[0;34m\u001b[0m\u001b[0;34m\u001b[0m\u001b[0m\n\u001b[0m",
      "\u001b[0;32m~/HAL/hal_pm/hal_pm/Time_Plots.py\u001b[0m in \u001b[0;36mplot_average_pol\u001b[0;34m(df, ax)\u001b[0m\n\u001b[1;32m     84\u001b[0m \u001b[0;34m\u001b[0m\u001b[0m\n\u001b[1;32m     85\u001b[0m     \u001b[0;32mif\u001b[0m \u001b[0m_ax\u001b[0m \u001b[0;34m==\u001b[0m \u001b[0;36m1\u001b[0m\u001b[0;34m:\u001b[0m\u001b[0;34m\u001b[0m\u001b[0;34m\u001b[0m\u001b[0m\n\u001b[0;32m---> 86\u001b[0;31m         \u001b[0mfig\u001b[0m\u001b[0;34m.\u001b[0m\u001b[0mautofmt_xdate\u001b[0m\u001b[0;34m(\u001b[0m\u001b[0mrotation\u001b[0m \u001b[0;34m=\u001b[0m \u001b[0;36m45\u001b[0m\u001b[0;34m)\u001b[0m\u001b[0;34m\u001b[0m\u001b[0;34m\u001b[0m\u001b[0m\n\u001b[0m\u001b[1;32m     87\u001b[0m \u001b[0;34m\u001b[0m\u001b[0m\n\u001b[1;32m     88\u001b[0m     \u001b[0;32mreturn\u001b[0m \u001b[0max\u001b[0m\u001b[0;34m\u001b[0m\u001b[0;34m\u001b[0m\u001b[0m\n",
      "\u001b[0;31mNameError\u001b[0m: name 'fig1' is not defined"
     ]
    },
    {
     "data": {
      "image/png": "[encoded data removed]",
      "text/plain": [
       "<Figure size 720x432 with 4 Axes>"
      ]
     },
     "metadata": {
      "needs_background": "light"
     },
     "output_type": "display_data"
    }
   ],
   "source": [
    "# Plot average polution\n",
    "Time_Plots.plot_average_pol(pmdata)"
   ]
  },
  {
   "cell_type": "code",
   "execution_count": 74,
   "metadata": {},
   "outputs": [],
   "source": []
  }
 ],
 "metadata": {
  "kernelspec": {
   "display_name": "Python 3",
   "language": "python",
   "name": "python3"
  },
  "language_info": {
   "codemirror_mode": {
    "name": "ipython",
    "version": 3
   },
   "file_extension": ".py",
   "mimetype": "text/x-python",
   "name": "python",
   "nbconvert_exporter": "python",
   "pygments_lexer": "ipython3",
   "version": "3.8.8"
  }
 },
 "nbformat": 4,
 "nbformat_minor": 4
}
