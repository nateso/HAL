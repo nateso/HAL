{
 "cells": [
  {
   "cell_type": "markdown",
   "metadata": {},
   "source": [
    "# Usage Example of the HAL Project Group\n",
    "## Prerequisite: \n",
    "- Importing required libraries, \n",
    "- Setting system path\n",
    "- Importing HAL project"
   ]
  },
  {
   "cell_type": "code",
   "execution_count": 26,
   "metadata": {},
   "outputs": [],
   "source": [
    "import os\n",
    "import sys"
   ]
  },
  {
   "cell_type": "code",
   "execution_count": 27,
   "metadata": {},
   "outputs": [],
   "source": [
    "sys.path.append(os.getcwd() + \"/hal_pm\")"
   ]
  },
  {
   "cell_type": "code",
   "execution_count": 28,
   "metadata": {},
   "outputs": [],
   "source": [
    "from hal_pm import *\n",
    "import datetime"
   ]
  },
  {
   "cell_type": "markdown",
   "metadata": {},
   "source": [
    "## 1.) & 2.): Etablishing connection to Rest-API and requesting the data\n",
    "The load_data function takes the coordinates (latitude and logitude, start and end point each) as well as a start date in `datetime` format and number of delta hours as input values. \n",
    "In first place, PM2.5 and PM10 `pandas` data frames are created seperetally. Meanwhile it creates the unique identifier column *measurement_id*, which is a combination of *sensor_id* and *time* columns in each data frame. By the unique identifier, PM2.5 and PM10 data frames are merged into a large one (since a single sensor always measures PM10 and PM2.5 values). After reordering the columns, the large data frame containing all *measurements*, *dates*, *coordinates* and *sensor_id*s is outputted to the user.\n",
    "\n",
    "#### Place and time of measurements:\n",
    "As a group, we decided to take a look at Stuttgart's fine particulate pollution in our example. This is reasoned on in the fact, that Stuttgart were famous for its ban on diesel-powered vehicles in an early stage compared to the rest of germany. Due to the fact, that one hour already contains 20134 observations, we couldn't take a longer time period into account (otherwise, loading data would take too much time). Therefore *start_date* is chosen without purpose as well. However, by only defining the datetime as *YYYY, MM, DD*, the measurements start on midnight 2018-06-01 and end on 1:00 am 2018-06-01."
   ]
  },
  {
   "cell_type": "code",
   "execution_count": 29,
   "metadata": {},
   "outputs": [],
   "source": [
    "# Load Data\n",
    "start_date = datetime.datetime(2018, 6, 1)\n",
    "pmdata = Load_Data.load_data(lat_start = 48.5, lat_end = 49, long_start = 9, long_end = 9.3, start_datetime = start_date, delta_hours = 1)"
   ]
  },
  {
   "cell_type": "code",
   "execution_count": 30,
   "metadata": {},
   "outputs": [
    {
     "data": {
      "text/html": [
       "<div>\n",
       "<style scoped>\n",
       "    .dataframe tbody tr th:only-of-type {\n",
       "        vertical-align: middle;\n",
       "    }\n",
       "\n",
       "    .dataframe tbody tr th {\n",
       "        vertical-align: top;\n",
       "    }\n",
       "\n",
       "    .dataframe thead th {\n",
       "        text-align: right;\n",
       "    }\n",
       "</style>\n",
       "<table border=\"1\" class=\"dataframe\">\n",
       "  <thead>\n",
       "    <tr style=\"text-align: right;\">\n",
       "      <th></th>\n",
       "      <th>measurement_PM10</th>\n",
       "      <th>measurement_PM2.5</th>\n",
       "      <th>time</th>\n",
       "      <th>lat</th>\n",
       "      <th>lon</th>\n",
       "      <th>sensor_id</th>\n",
       "      <th>measurement_id</th>\n",
       "    </tr>\n",
       "  </thead>\n",
       "  <tbody>\n",
       "    <tr>\n",
       "      <th>0</th>\n",
       "      <td>NaN</td>\n",
       "      <td>NaN</td>\n",
       "      <td>2018-06-01T00:00:01Z</td>\n",
       "      <td>48.798</td>\n",
       "      <td>9.070</td>\n",
       "      <td>11264</td>\n",
       "      <td>11264_2018-06-01T00:00:01Z</td>\n",
       "    </tr>\n",
       "    <tr>\n",
       "      <th>1</th>\n",
       "      <td>2.67</td>\n",
       "      <td>1.27</td>\n",
       "      <td>2018-06-01T00:00:01Z</td>\n",
       "      <td>48.949</td>\n",
       "      <td>9.098</td>\n",
       "      <td>122</td>\n",
       "      <td>122_2018-06-01T00:00:01Z</td>\n",
       "    </tr>\n",
       "    <tr>\n",
       "      <th>2</th>\n",
       "      <td>8.60</td>\n",
       "      <td>1.77</td>\n",
       "      <td>2018-06-01T00:00:01Z</td>\n",
       "      <td>48.765</td>\n",
       "      <td>9.147</td>\n",
       "      <td>4383</td>\n",
       "      <td>4383_2018-06-01T00:00:01Z</td>\n",
       "    </tr>\n",
       "    <tr>\n",
       "      <th>3</th>\n",
       "      <td>12.35</td>\n",
       "      <td>2.42</td>\n",
       "      <td>2018-06-01T00:00:01Z</td>\n",
       "      <td>48.779</td>\n",
       "      <td>9.034</td>\n",
       "      <td>181</td>\n",
       "      <td>181_2018-06-01T00:00:01Z</td>\n",
       "    </tr>\n",
       "    <tr>\n",
       "      <th>4</th>\n",
       "      <td>NaN</td>\n",
       "      <td>NaN</td>\n",
       "      <td>2018-06-01T00:00:01Z</td>\n",
       "      <td>48.779</td>\n",
       "      <td>9.034</td>\n",
       "      <td>182</td>\n",
       "      <td>182_2018-06-01T00:00:01Z</td>\n",
       "    </tr>\n",
       "    <tr>\n",
       "      <th>...</th>\n",
       "      <td>...</td>\n",
       "      <td>...</td>\n",
       "      <td>...</td>\n",
       "      <td>...</td>\n",
       "      <td>...</td>\n",
       "      <td>...</td>\n",
       "      <td>...</td>\n",
       "    </tr>\n",
       "    <tr>\n",
       "      <th>20129</th>\n",
       "      <td>3.90</td>\n",
       "      <td>1.33</td>\n",
       "      <td>2018-06-01T00:59:59Z</td>\n",
       "      <td>48.759</td>\n",
       "      <td>9.162</td>\n",
       "      <td>309</td>\n",
       "      <td>309_2018-06-01T00:59:59Z</td>\n",
       "    </tr>\n",
       "    <tr>\n",
       "      <th>20130</th>\n",
       "      <td>NaN</td>\n",
       "      <td>NaN</td>\n",
       "      <td>2018-06-01T00:59:59Z</td>\n",
       "      <td>48.536</td>\n",
       "      <td>9.274</td>\n",
       "      <td>202</td>\n",
       "      <td>202_2018-06-01T00:59:59Z</td>\n",
       "    </tr>\n",
       "    <tr>\n",
       "      <th>20131</th>\n",
       "      <td>NaN</td>\n",
       "      <td>NaN</td>\n",
       "      <td>2018-06-01T00:59:59Z</td>\n",
       "      <td>48.692</td>\n",
       "      <td>9.148</td>\n",
       "      <td>2493</td>\n",
       "      <td>2493_2018-06-01T00:59:59Z</td>\n",
       "    </tr>\n",
       "    <tr>\n",
       "      <th>20132</th>\n",
       "      <td>NaN</td>\n",
       "      <td>NaN</td>\n",
       "      <td>2018-06-01T00:59:59Z</td>\n",
       "      <td>48.799</td>\n",
       "      <td>9.224</td>\n",
       "      <td>5356</td>\n",
       "      <td>5356_2018-06-01T00:59:59Z</td>\n",
       "    </tr>\n",
       "    <tr>\n",
       "      <th>20133</th>\n",
       "      <td>NaN</td>\n",
       "      <td>NaN</td>\n",
       "      <td>2018-06-01T00:59:59Z</td>\n",
       "      <td>48.759</td>\n",
       "      <td>9.162</td>\n",
       "      <td>310</td>\n",
       "      <td>310_2018-06-01T00:59:59Z</td>\n",
       "    </tr>\n",
       "  </tbody>\n",
       "</table>\n",
       "<p>20134 rows × 7 columns</p>\n",
       "</div>"
      ],
      "text/plain": [
       "       measurement_PM10  measurement_PM2.5                  time     lat  \\\n",
       "0                   NaN                NaN  2018-06-01T00:00:01Z  48.798   \n",
       "1                  2.67               1.27  2018-06-01T00:00:01Z  48.949   \n",
       "2                  8.60               1.77  2018-06-01T00:00:01Z  48.765   \n",
       "3                 12.35               2.42  2018-06-01T00:00:01Z  48.779   \n",
       "4                   NaN                NaN  2018-06-01T00:00:01Z  48.779   \n",
       "...                 ...                ...                   ...     ...   \n",
       "20129              3.90               1.33  2018-06-01T00:59:59Z  48.759   \n",
       "20130               NaN                NaN  2018-06-01T00:59:59Z  48.536   \n",
       "20131               NaN                NaN  2018-06-01T00:59:59Z  48.692   \n",
       "20132               NaN                NaN  2018-06-01T00:59:59Z  48.799   \n",
       "20133               NaN                NaN  2018-06-01T00:59:59Z  48.759   \n",
       "\n",
       "         lon sensor_id              measurement_id  \n",
       "0      9.070     11264  11264_2018-06-01T00:00:01Z  \n",
       "1      9.098       122    122_2018-06-01T00:00:01Z  \n",
       "2      9.147      4383   4383_2018-06-01T00:00:01Z  \n",
       "3      9.034       181    181_2018-06-01T00:00:01Z  \n",
       "4      9.034       182    182_2018-06-01T00:00:01Z  \n",
       "...      ...       ...                         ...  \n",
       "20129  9.162       309    309_2018-06-01T00:59:59Z  \n",
       "20130  9.274       202    202_2018-06-01T00:59:59Z  \n",
       "20131  9.148      2493   2493_2018-06-01T00:59:59Z  \n",
       "20132  9.224      5356   5356_2018-06-01T00:59:59Z  \n",
       "20133  9.162       310    310_2018-06-01T00:59:59Z  \n",
       "\n",
       "[20134 rows x 7 columns]"
      ]
     },
     "execution_count": 30,
     "metadata": {},
     "output_type": "execute_result"
    }
   ],
   "source": [
    "pmdata"
   ]
  },
  {
   "cell_type": "markdown",
   "metadata": {},
   "source": [
    "## 5.) Time histories of fine particulate pollution for the sensors with the highest and lowest mean pollution levels\n"
   ]
  },
  {
   "cell_type": "code",
   "execution_count": 31,
   "metadata": {},
   "outputs": [
    {
     "ename": "NameError",
     "evalue": "name 'remove_missing' is not defined",
     "output_type": "error",
     "traceback": [
      "\u001b[0;31m---------------------------------------------------------------------------\u001b[0m",
      "\u001b[0;31mNameError\u001b[0m                                 Traceback (most recent call last)",
      "\u001b[0;32m<ipython-input-31-1098ca614119>\u001b[0m in \u001b[0;36m<module>\u001b[0;34m\u001b[0m\n\u001b[1;32m      1\u001b[0m \u001b[0;31m# Plot average polution\u001b[0m\u001b[0;34m\u001b[0m\u001b[0;34m\u001b[0m\u001b[0;34m\u001b[0m\u001b[0m\n\u001b[0;32m----> 2\u001b[0;31m \u001b[0mTime_Plots\u001b[0m\u001b[0;34m.\u001b[0m\u001b[0mplot_average_pol\u001b[0m\u001b[0;34m(\u001b[0m\u001b[0mpmdata\u001b[0m\u001b[0;34m)\u001b[0m\u001b[0;34m\u001b[0m\u001b[0;34m\u001b[0m\u001b[0m\n\u001b[0m",
      "\u001b[0;32m~/HAL/hal_pm/hal_pm/Time_Plots.py\u001b[0m in \u001b[0;36mplot_average_pol\u001b[0;34m(df, ax)\u001b[0m\n\u001b[1;32m     17\u001b[0m     \u001b[0;34m'''INPUT:'''\u001b[0m\u001b[0;34m\u001b[0m\u001b[0;34m\u001b[0m\u001b[0m\n\u001b[1;32m     18\u001b[0m \u001b[0;34m\u001b[0m\u001b[0m\n\u001b[0;32m---> 19\u001b[0;31m     \u001b[0;34m'''df:                         dataframe out of load_data function, where missing measurements are removed'''\u001b[0m\u001b[0;34m\u001b[0m\u001b[0;34m\u001b[0m\u001b[0m\n\u001b[0m\u001b[1;32m     20\u001b[0m \u001b[0;34m\u001b[0m\u001b[0m\n\u001b[1;32m     21\u001b[0m     \u001b[0;34m'''OUTPUT:'''\u001b[0m\u001b[0;34m\u001b[0m\u001b[0;34m\u001b[0m\u001b[0m\n",
      "\u001b[0;31mNameError\u001b[0m: name 'remove_missing' is not defined"
     ]
    }
   ],
   "source": [
    "# Plot average polution\n",
    "Time_Plots.plot_average_pol(pmdata)"
   ]
  },
  {
   "cell_type": "code",
   "execution_count": null,
   "metadata": {},
   "outputs": [],
   "source": []
  }
 ],
 "metadata": {
  "kernelspec": {
   "display_name": "Python 3",
   "language": "python",
   "name": "python3"
  },
  "language_info": {
   "codemirror_mode": {
    "name": "ipython",
    "version": 3
   },
   "file_extension": ".py",
   "mimetype": "text/x-python",
   "name": "python",
   "nbconvert_exporter": "python",
   "pygments_lexer": "ipython3",
   "version": "3.8.8"
  }
 },
 "nbformat": 4,
 "nbformat_minor": 4
}
