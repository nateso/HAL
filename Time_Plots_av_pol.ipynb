{
 "cells": [
  {
   "cell_type": "markdown",
   "id": "3b4440e4-3349-48f9-860b-0cdfa8c3d149",
   "metadata": {},
   "source": [
    "# Funtion for plotting the time series of the sensors for the highest and the lowest polution"
   ]
  },
  {
   "cell_type": "code",
   "execution_count": null,
   "id": "1acce991-af3e-4c9c-b52f-f9a4b4c72869",
   "metadata": {},
   "outputs": [],
   "source": []
  }
 ],
 "metadata": {
  "kernelspec": {
   "display_name": "Python 3",
   "language": "python",
   "name": "python3"
  },
  "language_info": {
   "codemirror_mode": {
    "name": "ipython",
    "version": 3
   },
   "file_extension": ".py",
   "mimetype": "text/x-python",
   "name": "python",
   "nbconvert_exporter": "python",
   "pygments_lexer": "ipython3",
   "version": "3.8.8"
  }
 },
 "nbformat": 4,
 "nbformat_minor": 5
}
